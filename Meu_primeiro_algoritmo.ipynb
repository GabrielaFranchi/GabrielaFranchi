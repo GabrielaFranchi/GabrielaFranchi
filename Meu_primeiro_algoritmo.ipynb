{
  "nbformat": 4,
  "nbformat_minor": 0,
  "metadata": {
    "colab": {
      "provenance": [],
      "collapsed_sections": [
        "9EyJmIDCWCBl",
        "CgqQKXnRWxBG",
        "u08rl4nnX08U",
        "trXBcPmm0Nyr",
        "XO-y95QO5b1-",
        "lIWtwPDg8bKC",
        "DwXgUYPECQy9",
        "NzC5SyZ3Q2ky",
        "NasdyMhBTe-v",
        "RQRjIThOWHiT"
      ],
      "toc_visible": true,
      "authorship_tag": "ABX9TyPitwd1MCYaolR6UFiyGQeB",
      "include_colab_link": true
    },
    "kernelspec": {
      "name": "python3",
      "display_name": "Python 3"
    },
    "language_info": {
      "name": "python"
    }
  },
  "cells": [
    {
      "cell_type": "markdown",
      "metadata": {
        "id": "view-in-github",
        "colab_type": "text"
      },
      "source": [
        "<a href=\"https://colab.research.google.com/github/GabrielaFranchi/GabrielaFranchi/blob/main/Meu_primeiro_algoritmo.ipynb\" target=\"_parent\"><img src=\"https://colab.research.google.com/assets/colab-badge.svg\" alt=\"Open In Colab\"/></a>"
      ]
    },
    {
      "cell_type": "markdown",
      "source": [
        "#Operadores Aritméticos"
      ],
      "metadata": {
        "id": "9EyJmIDCWCBl"
      }
    },
    {
      "cell_type": "code",
      "source": [
        "#Adição\n",
        "10+2"
      ],
      "metadata": {
        "colab": {
          "base_uri": "https://localhost:8080/"
        },
        "id": "t9TfJe14WJj0",
        "outputId": "872669d1-aef5-48d7-f4fd-6a71eb559636"
      },
      "execution_count": 5,
      "outputs": [
        {
          "output_type": "execute_result",
          "data": {
            "text/plain": [
              "12"
            ]
          },
          "metadata": {},
          "execution_count": 5
        }
      ]
    },
    {
      "cell_type": "code",
      "source": [
        "#Subtração\n",
        "10-2"
      ],
      "metadata": {
        "colab": {
          "base_uri": "https://localhost:8080/"
        },
        "id": "ov74gX7JWawN",
        "outputId": "b42333c6-a874-4c56-9f3f-155e30f498b2"
      },
      "execution_count": 6,
      "outputs": [
        {
          "output_type": "execute_result",
          "data": {
            "text/plain": [
              "8"
            ]
          },
          "metadata": {},
          "execution_count": 6
        }
      ]
    },
    {
      "cell_type": "code",
      "source": [
        "#Multiplicação\n",
        "10*2"
      ],
      "metadata": {
        "colab": {
          "base_uri": "https://localhost:8080/"
        },
        "id": "uZbyKIAWWfDY",
        "outputId": "2bea5af7-971e-43cf-c6fa-98bae8c5b847"
      },
      "execution_count": 7,
      "outputs": [
        {
          "output_type": "execute_result",
          "data": {
            "text/plain": [
              "20"
            ]
          },
          "metadata": {},
          "execution_count": 7
        }
      ]
    },
    {
      "cell_type": "code",
      "source": [
        "#Divisão\n",
        "10/2"
      ],
      "metadata": {
        "colab": {
          "base_uri": "https://localhost:8080/"
        },
        "id": "v-R6X49BWiRI",
        "outputId": "baba83c2-b9cb-418c-fb09-131e9b1aef14"
      },
      "execution_count": 8,
      "outputs": [
        {
          "output_type": "execute_result",
          "data": {
            "text/plain": [
              "5.0"
            ]
          },
          "metadata": {},
          "execution_count": 8
        }
      ]
    },
    {
      "cell_type": "code",
      "source": [
        "#Divisão inteira\n",
        "10//2"
      ],
      "metadata": {
        "colab": {
          "base_uri": "https://localhost:8080/"
        },
        "id": "BrTvxRnDWk5Q",
        "outputId": "c06690ce-9457-4dda-9407-d8d8d4432317"
      },
      "execution_count": 13,
      "outputs": [
        {
          "output_type": "execute_result",
          "data": {
            "text/plain": [
              "5"
            ]
          },
          "metadata": {},
          "execution_count": 13
        }
      ]
    },
    {
      "cell_type": "code",
      "source": [
        "#Resto da divisão\n",
        "11 % 2"
      ],
      "metadata": {
        "colab": {
          "base_uri": "https://localhost:8080/"
        },
        "id": "LBtGW9UzXN5v",
        "outputId": "0d2d33b5-b5fd-48f8-813a-ae804a8808a4"
      },
      "execution_count": 14,
      "outputs": [
        {
          "output_type": "execute_result",
          "data": {
            "text/plain": [
              "1"
            ]
          },
          "metadata": {},
          "execution_count": 14
        }
      ]
    },
    {
      "cell_type": "code",
      "source": [
        "#Potenciação\n",
        "10**2"
      ],
      "metadata": {
        "colab": {
          "base_uri": "https://localhost:8080/"
        },
        "id": "QlSw2IlmWq84",
        "outputId": "9fd1c838-8c46-4596-84e9-d602060e2021"
      },
      "execution_count": 10,
      "outputs": [
        {
          "output_type": "execute_result",
          "data": {
            "text/plain": [
              "100"
            ]
          },
          "metadata": {},
          "execution_count": 10
        }
      ]
    },
    {
      "cell_type": "markdown",
      "source": [
        "#Operadores Relacionais"
      ],
      "metadata": {
        "id": "CgqQKXnRWxBG"
      }
    },
    {
      "cell_type": "code",
      "source": [
        "#Menor\n",
        "10<2"
      ],
      "metadata": {
        "colab": {
          "base_uri": "https://localhost:8080/"
        },
        "id": "RSSkmOabWu1E",
        "outputId": "a137f756-7922-47d9-c259-115a644700dd"
      },
      "execution_count": 11,
      "outputs": [
        {
          "output_type": "execute_result",
          "data": {
            "text/plain": [
              "False"
            ]
          },
          "metadata": {},
          "execution_count": 11
        }
      ]
    },
    {
      "cell_type": "code",
      "source": [
        "#Menor ou igual\n",
        "10<=2"
      ],
      "metadata": {
        "colab": {
          "base_uri": "https://localhost:8080/"
        },
        "id": "_3QRnkQIW480",
        "outputId": "6ffdebf3-0988-4ee6-fb33-882e642f2b09"
      },
      "execution_count": 12,
      "outputs": [
        {
          "output_type": "execute_result",
          "data": {
            "text/plain": [
              "False"
            ]
          },
          "metadata": {},
          "execution_count": 12
        }
      ]
    },
    {
      "cell_type": "code",
      "source": [
        "#Maior\n",
        "10>2"
      ],
      "metadata": {
        "colab": {
          "base_uri": "https://localhost:8080/"
        },
        "id": "FhYi3eyPXABk",
        "outputId": "694ae66c-a900-4be7-8a85-8242b0233339"
      },
      "execution_count": 15,
      "outputs": [
        {
          "output_type": "execute_result",
          "data": {
            "text/plain": [
              "True"
            ]
          },
          "metadata": {},
          "execution_count": 15
        }
      ]
    },
    {
      "cell_type": "code",
      "source": [
        "#Maior ou igual\n",
        "10 >= 2"
      ],
      "metadata": {
        "colab": {
          "base_uri": "https://localhost:8080/"
        },
        "id": "Qe-ORaR0XdTI",
        "outputId": "3761dac1-54e2-4461-eb17-cde8cdc4ee8d"
      },
      "execution_count": 16,
      "outputs": [
        {
          "output_type": "execute_result",
          "data": {
            "text/plain": [
              "True"
            ]
          },
          "metadata": {},
          "execution_count": 16
        }
      ]
    },
    {
      "cell_type": "code",
      "source": [
        "#Igual\n",
        "7 == 7"
      ],
      "metadata": {
        "colab": {
          "base_uri": "https://localhost:8080/"
        },
        "id": "c8ptbR8IXh1c",
        "outputId": "75062a72-812f-40b2-aff8-a9572b0f786c"
      },
      "execution_count": 17,
      "outputs": [
        {
          "output_type": "execute_result",
          "data": {
            "text/plain": [
              "True"
            ]
          },
          "metadata": {},
          "execution_count": 17
        }
      ]
    },
    {
      "cell_type": "code",
      "source": [
        "#Diferente\n",
        "7 != 7"
      ],
      "metadata": {
        "colab": {
          "base_uri": "https://localhost:8080/"
        },
        "id": "iPx3cikWXn28",
        "outputId": "9a8e7cc7-11dc-404e-ff74-64bfa40ff702"
      },
      "execution_count": 19,
      "outputs": [
        {
          "output_type": "execute_result",
          "data": {
            "text/plain": [
              "False"
            ]
          },
          "metadata": {},
          "execution_count": 19
        }
      ]
    },
    {
      "cell_type": "markdown",
      "source": [
        "#Operações Lógicas\n",
        "\n",
        "\n",
        "* And\n",
        "* Or\n",
        "* Not"
      ],
      "metadata": {
        "id": "u08rl4nnX08U"
      }
    },
    {
      "cell_type": "markdown",
      "source": [
        "Tabela Verdade\n",
        "\n",
        "And"
      ],
      "metadata": {
        "id": "YlQBLAN3Etaz"
      }
    },
    {
      "cell_type": "code",
      "source": [
        "print (10 > 2 and 4 < 6) # V and V - V\n",
        "print (10 > 2 and 4 > 6) # V and F - F\n",
        "print (10 < 2 and 4 < 6) # V and F - F\n",
        "print (10 < 2 and 4 > 6) # F and F - F"
      ],
      "metadata": {
        "colab": {
          "base_uri": "https://localhost:8080/"
        },
        "id": "qix90hl8XpWE",
        "outputId": "0759b2ce-39f0-4167-fa0e-9d4a48e8aacb"
      },
      "execution_count": 20,
      "outputs": [
        {
          "output_type": "stream",
          "name": "stdout",
          "text": [
            "True\n",
            "False\n",
            "False\n",
            "False\n"
          ]
        }
      ]
    },
    {
      "cell_type": "markdown",
      "source": [
        "Or"
      ],
      "metadata": {
        "id": "C_8vvLbSY-wJ"
      }
    },
    {
      "cell_type": "code",
      "source": [
        "print (10 > 2 or 4 < 6) # V or V - V\n",
        "print (10 > 2 or 4 > 6) # V or F - V\n",
        "print (10 < 2 or 4 < 6) # V or F - V\n",
        "print (10 < 2 or 4 > 6) # F or F - F"
      ],
      "metadata": {
        "colab": {
          "base_uri": "https://localhost:8080/"
        },
        "id": "nCN0G1YMY8ZE",
        "outputId": "6954b7c6-39af-4655-d6d8-2199a27690f5"
      },
      "execution_count": 21,
      "outputs": [
        {
          "output_type": "stream",
          "name": "stdout",
          "text": [
            "True\n",
            "True\n",
            "True\n",
            "False\n"
          ]
        }
      ]
    },
    {
      "cell_type": "markdown",
      "source": [
        "Not"
      ],
      "metadata": {
        "id": "JFjaBZdlZYrB"
      }
    },
    {
      "cell_type": "code",
      "source": [
        "not 10 > 2 # V -F"
      ],
      "metadata": {
        "colab": {
          "base_uri": "https://localhost:8080/"
        },
        "id": "OlndH25eZW0w",
        "outputId": "09efb66e-5dee-445f-a860-fda378e30666"
      },
      "execution_count": 22,
      "outputs": [
        {
          "output_type": "execute_result",
          "data": {
            "text/plain": [
              "False"
            ]
          },
          "metadata": {},
          "execution_count": 22
        }
      ]
    },
    {
      "cell_type": "code",
      "source": [
        "not 10 < 2 # F - V"
      ],
      "metadata": {
        "colab": {
          "base_uri": "https://localhost:8080/"
        },
        "id": "jDeS8uIcZl5Q",
        "outputId": "ed107afb-c39a-432b-8b18-ff4543e9bdeb"
      },
      "execution_count": 23,
      "outputs": [
        {
          "output_type": "execute_result",
          "data": {
            "text/plain": [
              "True"
            ]
          },
          "metadata": {},
          "execution_count": 23
        }
      ]
    },
    {
      "cell_type": "markdown",
      "source": [
        "#Variáveis\n",
        "######Variáveis estão alocadas em espaços na memória"
      ],
      "metadata": {
        "id": "-XhQ7cJEZs0U"
      }
    },
    {
      "cell_type": "code",
      "source": [
        "#Nome da variável é \"x\" que armaxena o valor 10 em um espaço na memória\n",
        "x=10\n",
        "print (x) #Utilizar a referencia no nome atribuido"
      ],
      "metadata": {
        "colab": {
          "base_uri": "https://localhost:8080/"
        },
        "id": "dz067Hs9Zr4w",
        "outputId": "8b8f27be-8d72-449a-beb9-5b76c0ea6495"
      },
      "execution_count": 24,
      "outputs": [
        {
          "output_type": "stream",
          "name": "stdout",
          "text": [
            "10\n"
          ]
        }
      ]
    },
    {
      "cell_type": "markdown",
      "source": [
        "Conhecendo o comando Print"
      ],
      "metadata": {
        "id": "5UzAbH53pQgh"
      }
    },
    {
      "cell_type": "code",
      "source": [
        "y = 10\n",
        "x = 8\n",
        "soma = x + y\n",
        "print (soma)"
      ],
      "metadata": {
        "colab": {
          "base_uri": "https://localhost:8080/"
        },
        "id": "yYSNksv5pM4S",
        "outputId": "e1fe2a3a-e675-463f-d1d6-266da95f6e20"
      },
      "execution_count": 30,
      "outputs": [
        {
          "output_type": "stream",
          "name": "stdout",
          "text": [
            "18\n"
          ]
        }
      ]
    },
    {
      "cell_type": "code",
      "source": [
        "nome = \"Rodrigo Rebouças\"\n",
        "print (nome)"
      ],
      "metadata": {
        "colab": {
          "base_uri": "https://localhost:8080/"
        },
        "id": "HYdsGhmdpe1p",
        "outputId": "cc747d59-36c0-4ad1-a71c-a633464b85d5"
      },
      "execution_count": 27,
      "outputs": [
        {
          "output_type": "stream",
          "name": "stdout",
          "text": [
            "Rodrigo Rebouças\n"
          ]
        }
      ]
    },
    {
      "cell_type": "markdown",
      "source": [
        "## Concatenação\n",
        "\n",
        "É o processo de combinar ou unir duas ou mais strings, fragmentos de texto ou variáveis em uma única linha"
      ],
      "metadata": {
        "id": "eNJEiLTuqM36"
      }
    },
    {
      "cell_type": "code",
      "source": [
        "x = 5\n",
        "print(\"O valor de x é\", x)"
      ],
      "metadata": {
        "colab": {
          "base_uri": "https://localhost:8080/"
        },
        "id": "VlOVQv8Pp5rc",
        "outputId": "c840ecbd-75a2-4993-f50d-82e5cfd1963e"
      },
      "execution_count": 31,
      "outputs": [
        {
          "output_type": "stream",
          "name": "stdout",
          "text": [
            "O valor de x é 5\n"
          ]
        }
      ]
    },
    {
      "cell_type": "code",
      "source": [
        "print (\"O valor de x é\", x, \"e o dobro é\", x * 2)"
      ],
      "metadata": {
        "colab": {
          "base_uri": "https://localhost:8080/"
        },
        "id": "bZBoz9oaqZeI",
        "outputId": "26d53b0b-e6b7-4b14-fac4-2b846ecfb347"
      },
      "execution_count": 32,
      "outputs": [
        {
          "output_type": "stream",
          "name": "stdout",
          "text": [
            "O valor de x é 5 e o dobro é 10\n"
          ]
        }
      ]
    },
    {
      "cell_type": "code",
      "source": [
        "print (\"Eu,\", nome, \"tirei\", x, \"na prova de Python\")"
      ],
      "metadata": {
        "colab": {
          "base_uri": "https://localhost:8080/"
        },
        "id": "KCAR86Lpqmsx",
        "outputId": "91a1c096-6c9e-421e-a468-401bea748a73"
      },
      "execution_count": 35,
      "outputs": [
        {
          "output_type": "stream",
          "name": "stdout",
          "text": [
            "Eu, Rodrigo Rebouças tirei 5 na prova de Python\n"
          ]
        }
      ]
    },
    {
      "cell_type": "code",
      "source": [
        "y = 10; z = 20 + x - y\n",
        "print(\"Declarar variáveis na mesma linha:\", y , z)"
      ],
      "metadata": {
        "colab": {
          "base_uri": "https://localhost:8080/"
        },
        "id": "EBM7dbCXqyLF",
        "outputId": "db6390d8-68e9-4e20-d111-484dd6e47e8c"
      },
      "execution_count": 34,
      "outputs": [
        {
          "output_type": "stream",
          "name": "stdout",
          "text": [
            "Declarar variáveis na mesma linha: 10 15\n"
          ]
        }
      ]
    },
    {
      "cell_type": "markdown",
      "source": [
        "## Type\n",
        "\n",
        "Type imprime/retorna o tipo/clase de um elemento"
      ],
      "metadata": {
        "id": "JnoavA-OrKya"
      }
    },
    {
      "cell_type": "code",
      "source": [
        "x = 10\n",
        "type(x)\n",
        "print(\"x\", type(x))\n",
        "\n",
        "nome = \"Rodrigo\"\n",
        "print(\"nome\", type(nome))\n",
        "\n",
        "num = \"100\"\n",
        "num_convert = int(num) #Converter variável\n",
        "print(\"num_conver\", type(num_convert))\n",
        "\n",
        "num_float = float(num)\n",
        "print(\"num_float\", num_float)"
      ],
      "metadata": {
        "colab": {
          "base_uri": "https://localhost:8080/"
        },
        "id": "BN6CIXNJrIUN",
        "outputId": "99159ee3-0ff5-423d-e056-4703bab127cb"
      },
      "execution_count": 36,
      "outputs": [
        {
          "output_type": "stream",
          "name": "stdout",
          "text": [
            "x <class 'int'>\n",
            "nome <class 'str'>\n",
            "num_conver <class 'int'>\n",
            "num_float 100.0\n"
          ]
        }
      ]
    },
    {
      "cell_type": "code",
      "source": [],
      "metadata": {
        "id": "2ySRtyLCFmWO"
      },
      "execution_count": null,
      "outputs": []
    },
    {
      "cell_type": "markdown",
      "source": [
        "## Input\n",
        " * Armazenar a informação digitada pelo usuário em uma variável.\n",
        "\n",
        " * O dado armazenado sempre será um texto."
      ],
      "metadata": {
        "id": "trXBcPmm0Nyr"
      }
    },
    {
      "cell_type": "code",
      "source": [
        "nome = input(\"Digite o nome do usuário: \") # Aguarda o usuário digitar algo\n",
        "print(nome)"
      ],
      "metadata": {
        "colab": {
          "base_uri": "https://localhost:8080/"
        },
        "id": "oct0axN0z0fx",
        "outputId": "b529530c-19dd-4310-9ab9-be64d1e6b3b5"
      },
      "execution_count": 14,
      "outputs": [
        {
          "output_type": "stream",
          "name": "stdout",
          "text": [
            "Digite o nome do usuário: Gabf\n",
            "Gabf\n"
          ]
        }
      ]
    },
    {
      "cell_type": "code",
      "source": [
        "valor = input(\"Digite a nota: \")\n",
        "print(nome, \"sua nota foi\", valor)"
      ],
      "metadata": {
        "colab": {
          "base_uri": "https://localhost:8080/"
        },
        "id": "776S2XzW0uk-",
        "outputId": "afa79bcc-91d2-46df-cbc7-c1aa90239787"
      },
      "execution_count": 15,
      "outputs": [
        {
          "output_type": "stream",
          "name": "stdout",
          "text": [
            "Digite a nota: 30\n",
            "Gabf sua nota foi 30\n"
          ]
        }
      ]
    },
    {
      "cell_type": "code",
      "source": [
        "valor = input(\"Digite o valor do produto: \")\n",
        "print(valor)"
      ],
      "metadata": {
        "colab": {
          "base_uri": "https://localhost:8080/"
        },
        "id": "G4I6KV_Y2zib",
        "outputId": "38ed5455-3392-4b0c-f041-f1e37ac9d088"
      },
      "execution_count": 16,
      "outputs": [
        {
          "output_type": "stream",
          "name": "stdout",
          "text": [
            "Digite o valor do produto: 2000\n",
            "2000\n"
          ]
        }
      ]
    },
    {
      "cell_type": "code",
      "source": [
        "valor_convert = int(valor)\n",
        "desconto = valor_convert - 5\n",
        "print(desconto)"
      ],
      "metadata": {
        "colab": {
          "base_uri": "https://localhost:8080/"
        },
        "id": "Jh1Vkdso11E9",
        "outputId": "8746d57a-b248-423c-af5b-f9a5ccb82f01"
      },
      "execution_count": 17,
      "outputs": [
        {
          "output_type": "stream",
          "name": "stdout",
          "text": [
            "1995\n"
          ]
        }
      ]
    },
    {
      "cell_type": "code",
      "source": [
        "desconto = int(valor) - 5\n",
        "print(desconto)"
      ],
      "metadata": {
        "colab": {
          "base_uri": "https://localhost:8080/"
        },
        "id": "VGykkGsB2kVt",
        "outputId": "9d7970d5-0468-4ca2-a996-282d8d07c2d0"
      },
      "execution_count": 18,
      "outputs": [
        {
          "output_type": "stream",
          "name": "stdout",
          "text": [
            "1995\n"
          ]
        }
      ]
    },
    {
      "cell_type": "markdown",
      "source": [
        "#Estruturas Condicionais\n",
        "* If\n",
        "* If/else\n",
        "* If/elif/else"
      ],
      "metadata": {
        "id": "XO-y95QO5b1-"
      }
    },
    {
      "cell_type": "code",
      "source": [
        "# If\n",
        "if 5 > 10:\n",
        "    print(\"Verdade\")"
      ],
      "metadata": {
        "id": "EDET6yRC5eWh"
      },
      "execution_count": 57,
      "outputs": []
    },
    {
      "cell_type": "code",
      "source": [
        "# If/else\n",
        "num1 = 10\n",
        "num2 = 5\n",
        "if num1 > num2:\n",
        "    print (\"O num1 é o maior número\")\n",
        "else:\n",
        "    print (\"O num2 é o maior número\")"
      ],
      "metadata": {
        "colab": {
          "base_uri": "https://localhost:8080/"
        },
        "id": "TlmsFXnZ5oH2",
        "outputId": "9b1d614f-2c3b-400e-8df9-7f0601d1da7f"
      },
      "execution_count": 58,
      "outputs": [
        {
          "output_type": "stream",
          "name": "stdout",
          "text": [
            "O num1 é o maior número\n"
          ]
        }
      ]
    },
    {
      "cell_type": "code",
      "source": [
        "# If / Elif / Else\n",
        "num1 = 10\n",
        "num2 = 10\n",
        "if num1 > num2:\n",
        "    print(\"O num1 é o maior número\")\n",
        "elif num1 < num2:\n",
        "    print(\"O num2 é o maior número\")\n",
        "else:\n",
        "    print((\"Os dois são iguais\"))"
      ],
      "metadata": {
        "colab": {
          "base_uri": "https://localhost:8080/"
        },
        "id": "JLOPv8QZ6z3W",
        "outputId": "6cba7ed4-02bf-4feb-ab20-9223ca6ec60f"
      },
      "execution_count": 56,
      "outputs": [
        {
          "output_type": "stream",
          "name": "stdout",
          "text": [
            "Os dois são iguais\n"
          ]
        }
      ]
    },
    {
      "cell_type": "markdown",
      "source": [
        "# Condicional com operadores lógicos"
      ],
      "metadata": {
        "id": "lIWtwPDg8bKC"
      }
    },
    {
      "cell_type": "code",
      "source": [
        "num1 = 10\n",
        "num2 = 5\n",
        "num3 = 2\n",
        "if (num1 > num2) and (num1 > num3):\n",
        "   print(\"O num1 é o maior número\")\n",
        "else:\n",
        "    print(\"O num1 não é o maior número\")"
      ],
      "metadata": {
        "colab": {
          "base_uri": "https://localhost:8080/"
        },
        "id": "ac3Jmu5t7eBd",
        "outputId": "b13fc73f-8c75-4236-9104-d314ed6d9d47"
      },
      "execution_count": 65,
      "outputs": [
        {
          "output_type": "stream",
          "name": "stdout",
          "text": [
            "O num1 é o maior número\n"
          ]
        }
      ]
    },
    {
      "cell_type": "markdown",
      "source": [
        "# Listas Valores, Tuplas e Dicionário"
      ],
      "metadata": {
        "id": "DwXgUYPECQy9"
      }
    },
    {
      "cell_type": "code",
      "source": [
        "#Lista\n",
        "[1,2,3,4,5]"
      ],
      "metadata": {
        "colab": {
          "base_uri": "https://localhost:8080/"
        },
        "id": "qHQNpdgZD6KW",
        "outputId": "b2c7e8bb-706e-4262-c77b-5a8d4f7a3791"
      },
      "execution_count": 9,
      "outputs": [
        {
          "output_type": "execute_result",
          "data": {
            "text/plain": [
              "[1, 2, 3, 4, 5]"
            ]
          },
          "metadata": {},
          "execution_count": 9
        }
      ]
    },
    {
      "cell_type": "code",
      "source": [
        "#Tupla\n",
        "(1,2,3,4,5)"
      ],
      "metadata": {
        "colab": {
          "base_uri": "https://localhost:8080/"
        },
        "id": "FrRnBvcnDjYC",
        "outputId": "19fdc142-3034-40b8-a0b1-069c9aaca920"
      },
      "execution_count": 6,
      "outputs": [
        {
          "output_type": "execute_result",
          "data": {
            "text/plain": [
              "(1, 2, 3, 4, 5)"
            ]
          },
          "metadata": {},
          "execution_count": 6
        }
      ]
    },
    {
      "cell_type": "code",
      "source": [
        "#Dicionário\n",
        "{\"num1\": 1, \"num2\": 2}"
      ],
      "metadata": {
        "colab": {
          "base_uri": "https://localhost:8080/"
        },
        "id": "Qib94UZJDp8-",
        "outputId": "89b02a9b-698e-4bea-a20c-e698e6d5a588"
      },
      "execution_count": 8,
      "outputs": [
        {
          "output_type": "execute_result",
          "data": {
            "text/plain": [
              "{'num1': 1, 'num2': 2}"
            ]
          },
          "metadata": {},
          "execution_count": 8
        }
      ]
    },
    {
      "cell_type": "markdown",
      "source": [
        "**Lista**\n",
        "\n",
        "Numa lista os valores podem ser modificados"
      ],
      "metadata": {
        "id": "Pi0HOuxNEPnV"
      }
    },
    {
      "cell_type": "code",
      "source": [
        "lista = [5, \"Rodrigo\", 8.9]"
      ],
      "metadata": {
        "id": "dbmg-7LkCU68"
      },
      "execution_count": 2,
      "outputs": []
    },
    {
      "cell_type": "code",
      "source": [
        "type(lista)"
      ],
      "metadata": {
        "colab": {
          "base_uri": "https://localhost:8080/"
        },
        "id": "CTZy5IYICn_l",
        "outputId": "528260c0-8e84-48fb-9ca4-6fd7fdedf7ce"
      },
      "execution_count": 3,
      "outputs": [
        {
          "output_type": "execute_result",
          "data": {
            "text/plain": [
              "list"
            ]
          },
          "metadata": {},
          "execution_count": 3
        }
      ]
    },
    {
      "cell_type": "code",
      "source": [
        "lista.append(\"Augusto\") # Adicionar um elemento na lista"
      ],
      "metadata": {
        "id": "0hr6qm23CuNA"
      },
      "execution_count": 4,
      "outputs": []
    },
    {
      "cell_type": "code",
      "source": [
        "print(lista) #Imprime a lista completa\n",
        "print(lista[1]) #Imprime o valor da posição desejada de uma lista"
      ],
      "metadata": {
        "colab": {
          "base_uri": "https://localhost:8080/"
        },
        "id": "8HaKIXBDC0NB",
        "outputId": "61427a46-f554-49a7-a139-2cc573a8ec77"
      },
      "execution_count": 5,
      "outputs": [
        {
          "output_type": "stream",
          "name": "stdout",
          "text": [
            "[5, 'Rodrigo', 8.9, 'Augusto']\n",
            "Rodrigo\n"
          ]
        }
      ]
    },
    {
      "cell_type": "markdown",
      "source": [
        "**Tupla**\n",
        "\n",
        "Numa tupla os valores constantes ou que não podem ser alterados"
      ],
      "metadata": {
        "id": "CNwLQyY0DCaJ"
      }
    },
    {
      "cell_type": "code",
      "source": [
        "tupla = (5, \"Rodrigo\", 8.9)"
      ],
      "metadata": {
        "id": "U8Jw76nzC-aU"
      },
      "execution_count": 10,
      "outputs": []
    },
    {
      "cell_type": "code",
      "source": [
        "type(tupla)"
      ],
      "metadata": {
        "colab": {
          "base_uri": "https://localhost:8080/"
        },
        "id": "OckgkXWOF9VI",
        "outputId": "d9c6315a-9021-4dad-f3aa-d5ffc8d664f9"
      },
      "execution_count": 11,
      "outputs": [
        {
          "output_type": "execute_result",
          "data": {
            "text/plain": [
              "tuple"
            ]
          },
          "metadata": {},
          "execution_count": 11
        }
      ]
    },
    {
      "cell_type": "code",
      "source": [
        "tupla.append(\"Augusto\") # Não é possível adicionar elementos em uma tupla, este código vai dar erro quando for executado"
      ],
      "metadata": {
        "colab": {
          "base_uri": "https://localhost:8080/",
          "height": 141
        },
        "id": "ry8tCusqF_N4",
        "outputId": "251b2766-2dd1-47e0-fee1-9d993a219c2f"
      },
      "execution_count": 12,
      "outputs": [
        {
          "output_type": "error",
          "ename": "AttributeError",
          "evalue": "'tuple' object has no attribute 'append'",
          "traceback": [
            "\u001b[0;31m---------------------------------------------------------------------------\u001b[0m",
            "\u001b[0;31mAttributeError\u001b[0m                            Traceback (most recent call last)",
            "\u001b[0;32m<ipython-input-12-cc151f4d35c6>\u001b[0m in \u001b[0;36m<cell line: 1>\u001b[0;34m()\u001b[0m\n\u001b[0;32m----> 1\u001b[0;31m \u001b[0mtupla\u001b[0m\u001b[0;34m.\u001b[0m\u001b[0mappend\u001b[0m\u001b[0;34m(\u001b[0m\u001b[0;34m\"Augusto\"\u001b[0m\u001b[0;34m)\u001b[0m \u001b[0;31m# Não é possível adicionar elementos em uma tupla\u001b[0m\u001b[0;34m\u001b[0m\u001b[0;34m\u001b[0m\u001b[0m\n\u001b[0m",
            "\u001b[0;31mAttributeError\u001b[0m: 'tuple' object has no attribute 'append'"
          ]
        }
      ]
    },
    {
      "cell_type": "code",
      "source": [
        "print(tupla) #Imprime a tupla completa"
      ],
      "metadata": {
        "colab": {
          "base_uri": "https://localhost:8080/"
        },
        "id": "1Nor0ogQGDN4",
        "outputId": "cdbbb1b1-2498-4ef5-8834-88125c628929"
      },
      "execution_count": 24,
      "outputs": [
        {
          "output_type": "stream",
          "name": "stdout",
          "text": [
            "(5, 'Rodrigo', 8.9)\n"
          ]
        }
      ]
    },
    {
      "cell_type": "code",
      "source": [
        "print(tupla[1]) #Imprime o valor da posição desejada de uma tupla"
      ],
      "metadata": {
        "colab": {
          "base_uri": "https://localhost:8080/"
        },
        "id": "fOc0VrybNCh3",
        "outputId": "5d3c1281-4aab-4cf9-f932-e37daa457b2b"
      },
      "execution_count": 25,
      "outputs": [
        {
          "output_type": "stream",
          "name": "stdout",
          "text": [
            "Rodrigo\n"
          ]
        }
      ]
    },
    {
      "cell_type": "markdown",
      "source": [
        "**Dicionário**\n",
        "\n",
        "É um tipo de estrutura de dados que armazena itens em pares de valores-chave. Uma chave é um identificador exclusivo de um item e um valor são os dados associados a essa chave."
      ],
      "metadata": {
        "id": "T7hD8QDgJe6W"
      }
    },
    {
      "cell_type": "code",
      "source": [
        "dicionario = {\"nome\":\"Rodrigo\",\"cidade\":\"São Paulo\"}"
      ],
      "metadata": {
        "id": "5OQDjs-hIzW0"
      },
      "execution_count": 20,
      "outputs": []
    },
    {
      "cell_type": "code",
      "source": [
        "type(dicionario)"
      ],
      "metadata": {
        "colab": {
          "base_uri": "https://localhost:8080/"
        },
        "id": "pjKFXeHBKXVI",
        "outputId": "dff2b860-baad-406e-9ba9-1f5f851b0289"
      },
      "execution_count": 21,
      "outputs": [
        {
          "output_type": "execute_result",
          "data": {
            "text/plain": [
              "dict"
            ]
          },
          "metadata": {},
          "execution_count": 21
        }
      ]
    },
    {
      "cell_type": "code",
      "source": [
        "print(dicionario) #Imprime o dicionário completo"
      ],
      "metadata": {
        "colab": {
          "base_uri": "https://localhost:8080/"
        },
        "id": "7_01YGxbKZat",
        "outputId": "58374db0-2c31-444b-efb0-87819df49d35"
      },
      "execution_count": 22,
      "outputs": [
        {
          "output_type": "stream",
          "name": "stdout",
          "text": [
            "{'nome': 'Rodrigo', 'cidade': 'São Paulo'}\n"
          ]
        }
      ]
    },
    {
      "cell_type": "code",
      "source": [
        "print(dicionario[\"nome\"]) #Imprime um dado específico do dicionário"
      ],
      "metadata": {
        "colab": {
          "base_uri": "https://localhost:8080/"
        },
        "id": "9fH2g8CfKdaJ",
        "outputId": "614d1e61-b655-4acd-835d-28fb4d662b8d"
      },
      "execution_count": 23,
      "outputs": [
        {
          "output_type": "stream",
          "name": "stdout",
          "text": [
            "Rodrigo\n"
          ]
        }
      ]
    },
    {
      "cell_type": "code",
      "source": [
        "dicionario[\"ultimo_nome\"]=\"Rebouças\" #Adiciona um dado ao dicionário"
      ],
      "metadata": {
        "id": "T_4UjSmCKlIo"
      },
      "execution_count": 27,
      "outputs": []
    },
    {
      "cell_type": "code",
      "source": [
        "print(dicionario)"
      ],
      "metadata": {
        "colab": {
          "base_uri": "https://localhost:8080/"
        },
        "id": "hQLD4hdHNoO0",
        "outputId": "5fba6a87-1ddf-4f15-fecb-c699e4c25880"
      },
      "execution_count": 28,
      "outputs": [
        {
          "output_type": "stream",
          "name": "stdout",
          "text": [
            "{'nome': 'Rodrigo', 'cidade': 'São Paulo', 'ultimo_nome': 'Rebouças'}\n"
          ]
        }
      ]
    },
    {
      "cell_type": "markdown",
      "source": [
        "# Estruturas de Repetição\n",
        "\n",
        "* For\n",
        "* For - Range\n",
        "* For - Operadores compostos\n",
        "* While"
      ],
      "metadata": {
        "id": "8vZVAje-QcEt"
      }
    },
    {
      "cell_type": "markdown",
      "source": [
        "## **For**\n",
        "\n",
        "Executa comandos enquando percorre os itens de uma coleção.\n",
        "\n",
        "*Formas de repetição*\n",
        "* Range\n",
        "* Simples\n",
        "* Enumerate"
      ],
      "metadata": {
        "id": "NzC5SyZ3Q2ky"
      }
    },
    {
      "cell_type": "code",
      "source": [
        "#For Range\n",
        "for contador in range(10):\n",
        "    print(contador)"
      ],
      "metadata": {
        "colab": {
          "base_uri": "https://localhost:8080/"
        },
        "id": "uRCMTw-ANwwV",
        "outputId": "28c8c39e-9a46-423f-f6a8-ebd6f1b9da6d"
      },
      "execution_count": 30,
      "outputs": [
        {
          "output_type": "stream",
          "name": "stdout",
          "text": [
            "0\n",
            "1\n",
            "2\n",
            "3\n",
            "4\n",
            "5\n",
            "6\n",
            "7\n",
            "8\n",
            "9\n"
          ]
        }
      ]
    },
    {
      "cell_type": "code",
      "source": [
        "#For Range + Break\n",
        "for contador in range(1000):\n",
        "    print(contador)\n",
        "    if contador == 2:\n",
        "        break"
      ],
      "metadata": {
        "colab": {
          "base_uri": "https://localhost:8080/"
        },
        "id": "MEgz_pivSfI4",
        "outputId": "8b2349d0-d60d-49eb-a6d0-383632699b9f"
      },
      "execution_count": 31,
      "outputs": [
        {
          "output_type": "stream",
          "name": "stdout",
          "text": [
            "0\n",
            "1\n",
            "2\n"
          ]
        }
      ]
    },
    {
      "cell_type": "code",
      "source": [
        "lista = [\"Teste1\", \"Teste2\"]"
      ],
      "metadata": {
        "id": "Mx6VAhppSu9Z"
      },
      "execution_count": 32,
      "outputs": []
    },
    {
      "cell_type": "code",
      "source": [
        "#For Simples\n",
        "for val in lista:\n",
        "    print(val) #Imprime os valores da lista"
      ],
      "metadata": {
        "colab": {
          "base_uri": "https://localhost:8080/"
        },
        "id": "EKmkaUzWS4vt",
        "outputId": "42f6338f-5ff4-493c-aed8-a366b0fda841"
      },
      "execution_count": 33,
      "outputs": [
        {
          "output_type": "stream",
          "name": "stdout",
          "text": [
            "Teste1\n",
            "Teste2\n"
          ]
        }
      ]
    },
    {
      "cell_type": "code",
      "source": [
        "#For com enumerate\n",
        "for i, val in enumerate(lista):\n",
        "    print(i, val) #Imprime a posição e o valor da lista"
      ],
      "metadata": {
        "colab": {
          "base_uri": "https://localhost:8080/"
        },
        "id": "PuQnIogITBPc",
        "outputId": "fed3a655-ec76-431f-d717-a6cf1e0c1859"
      },
      "execution_count": 34,
      "outputs": [
        {
          "output_type": "stream",
          "name": "stdout",
          "text": [
            "0 Teste1\n",
            "1 Teste2\n"
          ]
        }
      ]
    },
    {
      "cell_type": "markdown",
      "source": [
        "## **For com Operadores compostos**\n",
        "\n",
        "Operadores compostos permitem criar um código mais reduzido (eficiente).\n",
        "\n",
        "+=  |  num += 1 | num = num + 1\n",
        "\n",
        "-=  |  num -= 1 | num = num - 1\n",
        "\n",
        "*=  |  num *= 5 | num = num * 5\n",
        "\n",
        "/=  |  num /= 2 | num = num / 2\n",
        "\n",
        "%=  |  num %= 2 | num = num % 2"
      ],
      "metadata": {
        "id": "NasdyMhBTe-v"
      }
    },
    {
      "cell_type": "code",
      "source": [
        "lista2 = [2, 3, 4]\n",
        "for val in lista2:\n",
        "    val += 1\n",
        "    print(val)"
      ],
      "metadata": {
        "colab": {
          "base_uri": "https://localhost:8080/"
        },
        "id": "W7X4FUmHTqzH",
        "outputId": "6bf015b6-048f-41ae-f8fd-82d2115d3aae"
      },
      "execution_count": 35,
      "outputs": [
        {
          "output_type": "stream",
          "name": "stdout",
          "text": [
            "3\n",
            "4\n",
            "5\n"
          ]
        }
      ]
    },
    {
      "cell_type": "code",
      "source": [
        "for val in lista2:\n",
        "    val *= 2\n",
        "    print(val)"
      ],
      "metadata": {
        "colab": {
          "base_uri": "https://localhost:8080/"
        },
        "id": "EPohmMtmV_hs",
        "outputId": "b36e7ecb-2a60-45c9-9bc5-626140d5013b"
      },
      "execution_count": 36,
      "outputs": [
        {
          "output_type": "stream",
          "name": "stdout",
          "text": [
            "4\n",
            "6\n",
            "8\n"
          ]
        }
      ]
    },
    {
      "cell_type": "markdown",
      "source": [
        "## **While**\n",
        "\n",
        "Executa comandos enquando uma condição for verdadeira.\n",
        "\n",
        "* Simples\n",
        "* Else"
      ],
      "metadata": {
        "id": "RQRjIThOWHiT"
      }
    },
    {
      "cell_type": "code",
      "source": [
        "#While Simples\n",
        "val = 1\n",
        "while (val < 6):\n",
        "    val *=2\n",
        "    print(val)"
      ],
      "metadata": {
        "colab": {
          "base_uri": "https://localhost:8080/"
        },
        "id": "NrdQAMf8WFPl",
        "outputId": "85323fa4-c850-43f8-9cc3-c1d7682fc32f"
      },
      "execution_count": 38,
      "outputs": [
        {
          "output_type": "stream",
          "name": "stdout",
          "text": [
            "2\n",
            "4\n",
            "8\n"
          ]
        }
      ]
    },
    {
      "cell_type": "code",
      "source": [
        "#While com else\n",
        "val = 1\n",
        "while (val < 6):\n",
        "    val *=2\n",
        "else:\n",
        "    print(\"Valor de val é \", val)"
      ],
      "metadata": {
        "colab": {
          "base_uri": "https://localhost:8080/"
        },
        "id": "vPrdFf2dafKe",
        "outputId": "4c6b6d02-995d-4fbe-82ae-224b369d7c9e"
      },
      "execution_count": 39,
      "outputs": [
        {
          "output_type": "stream",
          "name": "stdout",
          "text": [
            "Valor de val é  8\n"
          ]
        }
      ]
    }
  ]
}