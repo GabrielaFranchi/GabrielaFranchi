{
  "nbformat": 4,
  "nbformat_minor": 0,
  "metadata": {
    "colab": {
      "provenance": [],
      "authorship_tag": "ABX9TyMIFFEj5Kj/tkkwsIJxdWGi",
      "include_colab_link": true
    },
    "kernelspec": {
      "name": "python3",
      "display_name": "Python 3"
    },
    "language_info": {
      "name": "python"
    }
  },
  "cells": [
    {
      "cell_type": "markdown",
      "metadata": {
        "id": "view-in-github",
        "colab_type": "text"
      },
      "source": [
        "<a href=\"https://colab.research.google.com/github/GabrielaFranchi/GabrielaFranchi/blob/main/ExercicioModulo5.ipynb\" target=\"_parent\"><img src=\"https://colab.research.google.com/assets/colab-badge.svg\" alt=\"Open In Colab\"/></a>"
      ]
    },
    {
      "cell_type": "code",
      "execution_count": 10,
      "metadata": {
        "colab": {
          "base_uri": "https://localhost:8080/"
        },
        "id": "Tx2PSA-TzLe-",
        "outputId": "7f8b64be-7617-4a1d-e2be-3f3c480ee1e9"
      },
      "outputs": [
        {
          "output_type": "stream",
          "name": "stdout",
          "text": [
            "Digite um número inteiro: 3\n",
            "Digite um número inteiro: 6\n",
            "Digite quantas vezes deve ser realizada a operação: 10\n",
            "[-60, 75, 24.0, 99.0]\n",
            "[-60, 75, 24.0, 99.0]\n",
            "[-60, 75, 24.0, 99.0]\n",
            "[-60, 75, 24.0, 99.0]\n",
            "[-60, 75, 24.0, 99.0]\n",
            "[-60, 75, 24.0, 99.0]\n",
            "[-60, 75, 24.0, 99.0]\n",
            "[-60, 75, 24.0, 99.0]\n",
            "[-60, 75, 24.0, 99.0]\n",
            "[-60, 75, 24.0, 99.0]\n"
          ]
        }
      ],
      "source": [
        "#Solicitando e convertendo 2 números solicitados ao usuário\n",
        "num1 = int(input(\"Digite um número inteiro: \"))\n",
        "num2 = int(input(\"Digite um número inteiro: \"))\n",
        "condição = int(input(\"Digite quantas vezes deve ser realizada a operação: \"))\n",
        "\n",
        "#Implementando 4 operações matemáticas\n",
        "num3 = num1 + num2 - 2*num2**2 + 3\n",
        "num4 = 3*num1**3 - num2\n",
        "num5 = 4*num1 / 3*num2\n",
        "num6 = num5 + num4\n",
        "\n",
        "#Adicionando um laço de repetição\n",
        "lista = [num3, num4, num5, num6]\n",
        "\n",
        "while condição > 0:\n",
        "    condição -= 1\n",
        "    print(lista)"
      ]
    },
    {
      "cell_type": "code",
      "source": [],
      "metadata": {
        "id": "FjQloyV3zTgd"
      },
      "execution_count": null,
      "outputs": []
    }
  ]
}